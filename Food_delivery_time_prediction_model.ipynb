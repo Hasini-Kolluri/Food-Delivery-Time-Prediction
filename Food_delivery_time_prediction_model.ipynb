{
 "cells": [
  {
   "cell_type": "markdown",
   "id": "826d3253-37e8-4f4c-b10e-f1130c8def05",
   "metadata": {},
   "source": [
    "<h3>Work In Progress: Food Delivery Time Prediction\n",
    "    \r\n",
    "This notebook is a draft under development. Final model and pipeline will be added soon</h3>.\r\n"
   ]
  },
  {
   "cell_type": "markdown",
   "id": "4c36ad72-9748-4a2c-82dd-0b815e798204",
   "metadata": {
    "jp-MarkdownHeadingCollapsed": true
   },
   "source": [
    "<h2>Importing Libraries and Loading Datasets</h2>"
   ]
  },
  {
   "cell_type": "code",
   "execution_count": 23,
   "id": "149044f2-2af7-468a-9833-4c84b6c2aaec",
   "metadata": {},
   "outputs": [],
   "source": [
    "import numpy as np\n",
    "import pandas as pd\n",
    "import matplotlib.pyplot as plt\n",
    "import seaborn as sns\n",
    "from sklearn.compose import ColumnTransformer\n",
    "from sklearn.pipeline import Pipeline\n",
    "from sklearn.impute import SimpleImputer\n",
    "from sklearn.preprocessing import StandardScaler,OneHotEncoder\n",
    "from sklearn.model_selection import train_test_split,GridSearchCV\n",
    "\n",
    "import warnings\n",
    "warnings.filterwarnings(\"ignore\")"
   ]
  },
  {
   "cell_type": "code",
   "execution_count": 24,
   "id": "67f02a8a-579c-43f4-be19-ad117e572eb9",
   "metadata": {},
   "outputs": [],
   "source": [
    "df=pd.read_csv(\"Food_Delivery_Times.csv\")"
   ]
  },
  {
   "cell_type": "code",
   "execution_count": 25,
   "id": "b2868bcb-7a56-492d-8717-ef07ac32b5d6",
   "metadata": {},
   "outputs": [
    {
     "data": {
      "text/html": [
       "<div>\n",
       "<style scoped>\n",
       "    .dataframe tbody tr th:only-of-type {\n",
       "        vertical-align: middle;\n",
       "    }\n",
       "\n",
       "    .dataframe tbody tr th {\n",
       "        vertical-align: top;\n",
       "    }\n",
       "\n",
       "    .dataframe thead th {\n",
       "        text-align: right;\n",
       "    }\n",
       "</style>\n",
       "<table border=\"1\" class=\"dataframe\">\n",
       "  <thead>\n",
       "    <tr style=\"text-align: right;\">\n",
       "      <th></th>\n",
       "      <th>Order_ID</th>\n",
       "      <th>Distance_km</th>\n",
       "      <th>Weather</th>\n",
       "      <th>Traffic_Level</th>\n",
       "      <th>Time_of_Day</th>\n",
       "      <th>Vehicle_Type</th>\n",
       "      <th>Preparation_Time_min</th>\n",
       "      <th>Courier_Experience_yrs</th>\n",
       "      <th>Delivery_Time_min</th>\n",
       "    </tr>\n",
       "  </thead>\n",
       "  <tbody>\n",
       "    <tr>\n",
       "      <th>598</th>\n",
       "      <td>570</td>\n",
       "      <td>7.29</td>\n",
       "      <td>Clear</td>\n",
       "      <td>High</td>\n",
       "      <td>Evening</td>\n",
       "      <td>Car</td>\n",
       "      <td>11</td>\n",
       "      <td>7.0</td>\n",
       "      <td>48</td>\n",
       "    </tr>\n",
       "    <tr>\n",
       "      <th>29</th>\n",
       "      <td>948</td>\n",
       "      <td>18.05</td>\n",
       "      <td>Clear</td>\n",
       "      <td>Medium</td>\n",
       "      <td>Evening</td>\n",
       "      <td>Scooter</td>\n",
       "      <td>10</td>\n",
       "      <td>7.0</td>\n",
       "      <td>123</td>\n",
       "    </tr>\n",
       "    <tr>\n",
       "      <th>776</th>\n",
       "      <td>710</td>\n",
       "      <td>13.79</td>\n",
       "      <td>Rainy</td>\n",
       "      <td>Low</td>\n",
       "      <td>Night</td>\n",
       "      <td>Scooter</td>\n",
       "      <td>11</td>\n",
       "      <td>0.0</td>\n",
       "      <td>69</td>\n",
       "    </tr>\n",
       "    <tr>\n",
       "      <th>856</th>\n",
       "      <td>881</td>\n",
       "      <td>5.01</td>\n",
       "      <td>Rainy</td>\n",
       "      <td>Low</td>\n",
       "      <td>Afternoon</td>\n",
       "      <td>Bike</td>\n",
       "      <td>10</td>\n",
       "      <td>5.0</td>\n",
       "      <td>31</td>\n",
       "    </tr>\n",
       "    <tr>\n",
       "      <th>933</th>\n",
       "      <td>242</td>\n",
       "      <td>19.10</td>\n",
       "      <td>Snowy</td>\n",
       "      <td>Low</td>\n",
       "      <td>Afternoon</td>\n",
       "      <td>Bike</td>\n",
       "      <td>18</td>\n",
       "      <td>1.0</td>\n",
       "      <td>101</td>\n",
       "    </tr>\n",
       "  </tbody>\n",
       "</table>\n",
       "</div>"
      ],
      "text/plain": [
       "     Order_ID  Distance_km Weather Traffic_Level Time_of_Day Vehicle_Type  \\\n",
       "598       570         7.29   Clear          High     Evening          Car   \n",
       "29        948        18.05   Clear        Medium     Evening      Scooter   \n",
       "776       710        13.79   Rainy           Low       Night      Scooter   \n",
       "856       881         5.01   Rainy           Low   Afternoon         Bike   \n",
       "933       242        19.10   Snowy           Low   Afternoon         Bike   \n",
       "\n",
       "     Preparation_Time_min  Courier_Experience_yrs  Delivery_Time_min  \n",
       "598                    11                     7.0                 48  \n",
       "29                     10                     7.0                123  \n",
       "776                    11                     0.0                 69  \n",
       "856                    10                     5.0                 31  \n",
       "933                    18                     1.0                101  "
      ]
     },
     "execution_count": 25,
     "metadata": {},
     "output_type": "execute_result"
    }
   ],
   "source": [
    "df.sample(5)"
   ]
  },
  {
   "cell_type": "markdown",
   "id": "e14211cb-e879-45df-b2d5-4ac624115390",
   "metadata": {},
   "source": [
    "<h2>Data Wrangling</h2>"
   ]
  },
  {
   "cell_type": "code",
   "execution_count": 26,
   "id": "f5fe60f6-c15a-480c-b4ea-504d0726767e",
   "metadata": {},
   "outputs": [
    {
     "data": {
      "text/plain": [
       "Index(['Order_ID', 'Distance_km', 'Weather', 'Traffic_Level', 'Time_of_Day',\n",
       "       'Vehicle_Type', 'Preparation_Time_min', 'Courier_Experience_yrs',\n",
       "       'Delivery_Time_min'],\n",
       "      dtype='object')"
      ]
     },
     "execution_count": 26,
     "metadata": {},
     "output_type": "execute_result"
    }
   ],
   "source": [
    "df.columns"
   ]
  },
  {
   "cell_type": "code",
   "execution_count": 27,
   "id": "121c3fab-501c-4933-a889-cac395c69e4d",
   "metadata": {},
   "outputs": [
    {
     "name": "stdout",
     "output_type": "stream",
     "text": [
      "<class 'pandas.core.frame.DataFrame'>\n",
      "RangeIndex: 1000 entries, 0 to 999\n",
      "Data columns (total 9 columns):\n",
      " #   Column                  Non-Null Count  Dtype  \n",
      "---  ------                  --------------  -----  \n",
      " 0   Order_ID                1000 non-null   int64  \n",
      " 1   Distance_km             1000 non-null   float64\n",
      " 2   Weather                 970 non-null    object \n",
      " 3   Traffic_Level           970 non-null    object \n",
      " 4   Time_of_Day             970 non-null    object \n",
      " 5   Vehicle_Type            1000 non-null   object \n",
      " 6   Preparation_Time_min    1000 non-null   int64  \n",
      " 7   Courier_Experience_yrs  970 non-null    float64\n",
      " 8   Delivery_Time_min       1000 non-null   int64  \n",
      "dtypes: float64(2), int64(3), object(4)\n",
      "memory usage: 70.4+ KB\n"
     ]
    }
   ],
   "source": [
    "df.info()"
   ]
  },
  {
   "cell_type": "code",
   "execution_count": 28,
   "id": "cae1f1d6-e489-474b-b04b-90fb91d86892",
   "metadata": {},
   "outputs": [
    {
     "data": {
      "text/plain": [
       "(1000, 9)"
      ]
     },
     "execution_count": 28,
     "metadata": {},
     "output_type": "execute_result"
    }
   ],
   "source": [
    "df.shape"
   ]
  },
  {
   "cell_type": "code",
   "execution_count": 29,
   "id": "9762f742-b4e7-4822-9360-bcf0f216a413",
   "metadata": {},
   "outputs": [
    {
     "data": {
      "text/html": [
       "<div>\n",
       "<style scoped>\n",
       "    .dataframe tbody tr th:only-of-type {\n",
       "        vertical-align: middle;\n",
       "    }\n",
       "\n",
       "    .dataframe tbody tr th {\n",
       "        vertical-align: top;\n",
       "    }\n",
       "\n",
       "    .dataframe thead th {\n",
       "        text-align: right;\n",
       "    }\n",
       "</style>\n",
       "<table border=\"1\" class=\"dataframe\">\n",
       "  <thead>\n",
       "    <tr style=\"text-align: right;\">\n",
       "      <th></th>\n",
       "      <th>Order_ID</th>\n",
       "      <th>Distance_km</th>\n",
       "      <th>Preparation_Time_min</th>\n",
       "      <th>Courier_Experience_yrs</th>\n",
       "      <th>Delivery_Time_min</th>\n",
       "    </tr>\n",
       "  </thead>\n",
       "  <tbody>\n",
       "    <tr>\n",
       "      <th>count</th>\n",
       "      <td>1000.000000</td>\n",
       "      <td>1000.000000</td>\n",
       "      <td>1000.000000</td>\n",
       "      <td>970.000000</td>\n",
       "      <td>1000.000000</td>\n",
       "    </tr>\n",
       "    <tr>\n",
       "      <th>mean</th>\n",
       "      <td>500.500000</td>\n",
       "      <td>10.059970</td>\n",
       "      <td>16.982000</td>\n",
       "      <td>4.579381</td>\n",
       "      <td>56.732000</td>\n",
       "    </tr>\n",
       "    <tr>\n",
       "      <th>std</th>\n",
       "      <td>288.819436</td>\n",
       "      <td>5.696656</td>\n",
       "      <td>7.204553</td>\n",
       "      <td>2.914394</td>\n",
       "      <td>22.070915</td>\n",
       "    </tr>\n",
       "    <tr>\n",
       "      <th>min</th>\n",
       "      <td>1.000000</td>\n",
       "      <td>0.590000</td>\n",
       "      <td>5.000000</td>\n",
       "      <td>0.000000</td>\n",
       "      <td>8.000000</td>\n",
       "    </tr>\n",
       "    <tr>\n",
       "      <th>25%</th>\n",
       "      <td>250.750000</td>\n",
       "      <td>5.105000</td>\n",
       "      <td>11.000000</td>\n",
       "      <td>2.000000</td>\n",
       "      <td>41.000000</td>\n",
       "    </tr>\n",
       "    <tr>\n",
       "      <th>50%</th>\n",
       "      <td>500.500000</td>\n",
       "      <td>10.190000</td>\n",
       "      <td>17.000000</td>\n",
       "      <td>5.000000</td>\n",
       "      <td>55.500000</td>\n",
       "    </tr>\n",
       "    <tr>\n",
       "      <th>75%</th>\n",
       "      <td>750.250000</td>\n",
       "      <td>15.017500</td>\n",
       "      <td>23.000000</td>\n",
       "      <td>7.000000</td>\n",
       "      <td>71.000000</td>\n",
       "    </tr>\n",
       "    <tr>\n",
       "      <th>max</th>\n",
       "      <td>1000.000000</td>\n",
       "      <td>19.990000</td>\n",
       "      <td>29.000000</td>\n",
       "      <td>9.000000</td>\n",
       "      <td>153.000000</td>\n",
       "    </tr>\n",
       "  </tbody>\n",
       "</table>\n",
       "</div>"
      ],
      "text/plain": [
       "          Order_ID  Distance_km  Preparation_Time_min  Courier_Experience_yrs  \\\n",
       "count  1000.000000  1000.000000           1000.000000              970.000000   \n",
       "mean    500.500000    10.059970             16.982000                4.579381   \n",
       "std     288.819436     5.696656              7.204553                2.914394   \n",
       "min       1.000000     0.590000              5.000000                0.000000   \n",
       "25%     250.750000     5.105000             11.000000                2.000000   \n",
       "50%     500.500000    10.190000             17.000000                5.000000   \n",
       "75%     750.250000    15.017500             23.000000                7.000000   \n",
       "max    1000.000000    19.990000             29.000000                9.000000   \n",
       "\n",
       "       Delivery_Time_min  \n",
       "count        1000.000000  \n",
       "mean           56.732000  \n",
       "std            22.070915  \n",
       "min             8.000000  \n",
       "25%            41.000000  \n",
       "50%            55.500000  \n",
       "75%            71.000000  \n",
       "max           153.000000  "
      ]
     },
     "execution_count": 29,
     "metadata": {},
     "output_type": "execute_result"
    }
   ],
   "source": [
    "df.describe()"
   ]
  },
  {
   "cell_type": "code",
   "execution_count": 30,
   "id": "47fdb1ce-48cb-4cca-ab77-ef5e0c8a6fe8",
   "metadata": {},
   "outputs": [
    {
     "data": {
      "text/html": [
       "<div>\n",
       "<style scoped>\n",
       "    .dataframe tbody tr th:only-of-type {\n",
       "        vertical-align: middle;\n",
       "    }\n",
       "\n",
       "    .dataframe tbody tr th {\n",
       "        vertical-align: top;\n",
       "    }\n",
       "\n",
       "    .dataframe thead th {\n",
       "        text-align: right;\n",
       "    }\n",
       "</style>\n",
       "<table border=\"1\" class=\"dataframe\">\n",
       "  <thead>\n",
       "    <tr style=\"text-align: right;\">\n",
       "      <th></th>\n",
       "      <th>Weather</th>\n",
       "      <th>Traffic_Level</th>\n",
       "      <th>Time_of_Day</th>\n",
       "      <th>Vehicle_Type</th>\n",
       "    </tr>\n",
       "  </thead>\n",
       "  <tbody>\n",
       "    <tr>\n",
       "      <th>count</th>\n",
       "      <td>970</td>\n",
       "      <td>970</td>\n",
       "      <td>970</td>\n",
       "      <td>1000</td>\n",
       "    </tr>\n",
       "    <tr>\n",
       "      <th>unique</th>\n",
       "      <td>5</td>\n",
       "      <td>3</td>\n",
       "      <td>4</td>\n",
       "      <td>3</td>\n",
       "    </tr>\n",
       "    <tr>\n",
       "      <th>top</th>\n",
       "      <td>Clear</td>\n",
       "      <td>Medium</td>\n",
       "      <td>Morning</td>\n",
       "      <td>Bike</td>\n",
       "    </tr>\n",
       "    <tr>\n",
       "      <th>freq</th>\n",
       "      <td>470</td>\n",
       "      <td>390</td>\n",
       "      <td>308</td>\n",
       "      <td>503</td>\n",
       "    </tr>\n",
       "  </tbody>\n",
       "</table>\n",
       "</div>"
      ],
      "text/plain": [
       "       Weather Traffic_Level Time_of_Day Vehicle_Type\n",
       "count      970           970         970         1000\n",
       "unique       5             3           4            3\n",
       "top      Clear        Medium     Morning         Bike\n",
       "freq       470           390         308          503"
      ]
     },
     "execution_count": 30,
     "metadata": {},
     "output_type": "execute_result"
    }
   ],
   "source": [
    "df.describe(include=\"object\")"
   ]
  },
  {
   "cell_type": "code",
   "execution_count": 31,
   "id": "474d6172-9a8e-4c07-828e-70502cedc3fb",
   "metadata": {},
   "outputs": [
    {
     "data": {
      "text/plain": [
       "Order_ID                   0\n",
       "Distance_km                0\n",
       "Weather                   30\n",
       "Traffic_Level             30\n",
       "Time_of_Day               30\n",
       "Vehicle_Type               0\n",
       "Preparation_Time_min       0\n",
       "Courier_Experience_yrs    30\n",
       "Delivery_Time_min          0\n",
       "dtype: int64"
      ]
     },
     "execution_count": 31,
     "metadata": {},
     "output_type": "execute_result"
    }
   ],
   "source": [
    "df.isnull().sum()"
   ]
  },
  {
   "cell_type": "code",
   "execution_count": 32,
   "id": "f2fb3351-0ccd-4b54-872b-a2d4ddd47332",
   "metadata": {},
   "outputs": [
    {
     "data": {
      "text/html": [
       "<div>\n",
       "<style scoped>\n",
       "    .dataframe tbody tr th:only-of-type {\n",
       "        vertical-align: middle;\n",
       "    }\n",
       "\n",
       "    .dataframe tbody tr th {\n",
       "        vertical-align: top;\n",
       "    }\n",
       "\n",
       "    .dataframe thead th {\n",
       "        text-align: right;\n",
       "    }\n",
       "</style>\n",
       "<table border=\"1\" class=\"dataframe\">\n",
       "  <thead>\n",
       "    <tr style=\"text-align: right;\">\n",
       "      <th></th>\n",
       "      <th>Order_ID</th>\n",
       "      <th>Distance_km</th>\n",
       "      <th>Preparation_Time_min</th>\n",
       "      <th>Courier_Experience_yrs</th>\n",
       "      <th>Delivery_Time_min</th>\n",
       "    </tr>\n",
       "  </thead>\n",
       "  <tbody>\n",
       "    <tr>\n",
       "      <th>Order_ID</th>\n",
       "      <td>1.000000</td>\n",
       "      <td>-0.024483</td>\n",
       "      <td>-0.035100</td>\n",
       "      <td>0.013152</td>\n",
       "      <td>-0.036650</td>\n",
       "    </tr>\n",
       "    <tr>\n",
       "      <th>Distance_km</th>\n",
       "      <td>-0.024483</td>\n",
       "      <td>1.000000</td>\n",
       "      <td>-0.009037</td>\n",
       "      <td>-0.007842</td>\n",
       "      <td>0.780998</td>\n",
       "    </tr>\n",
       "    <tr>\n",
       "      <th>Preparation_Time_min</th>\n",
       "      <td>-0.035100</td>\n",
       "      <td>-0.009037</td>\n",
       "      <td>1.000000</td>\n",
       "      <td>-0.030830</td>\n",
       "      <td>0.307350</td>\n",
       "    </tr>\n",
       "    <tr>\n",
       "      <th>Courier_Experience_yrs</th>\n",
       "      <td>0.013152</td>\n",
       "      <td>-0.007842</td>\n",
       "      <td>-0.030830</td>\n",
       "      <td>1.000000</td>\n",
       "      <td>-0.090433</td>\n",
       "    </tr>\n",
       "    <tr>\n",
       "      <th>Delivery_Time_min</th>\n",
       "      <td>-0.036650</td>\n",
       "      <td>0.780998</td>\n",
       "      <td>0.307350</td>\n",
       "      <td>-0.090433</td>\n",
       "      <td>1.000000</td>\n",
       "    </tr>\n",
       "  </tbody>\n",
       "</table>\n",
       "</div>"
      ],
      "text/plain": [
       "                        Order_ID  Distance_km  Preparation_Time_min  \\\n",
       "Order_ID                1.000000    -0.024483             -0.035100   \n",
       "Distance_km            -0.024483     1.000000             -0.009037   \n",
       "Preparation_Time_min   -0.035100    -0.009037              1.000000   \n",
       "Courier_Experience_yrs  0.013152    -0.007842             -0.030830   \n",
       "Delivery_Time_min      -0.036650     0.780998              0.307350   \n",
       "\n",
       "                        Courier_Experience_yrs  Delivery_Time_min  \n",
       "Order_ID                              0.013152          -0.036650  \n",
       "Distance_km                          -0.007842           0.780998  \n",
       "Preparation_Time_min                 -0.030830           0.307350  \n",
       "Courier_Experience_yrs                1.000000          -0.090433  \n",
       "Delivery_Time_min                    -0.090433           1.000000  "
      ]
     },
     "execution_count": 32,
     "metadata": {},
     "output_type": "execute_result"
    }
   ],
   "source": [
    "df.corr(numeric_only=True)"
   ]
  },
  {
   "cell_type": "markdown",
   "id": "15c28552-9773-4a54-a2b8-abf3928270e0",
   "metadata": {},
   "source": [
    "<h4> Order ID and courier experience seem to have very little effect on the delivery time, on the other hand, preparation time plays a role in estimation of delivery time and distance has very high correlation with delivery time.</h4>"
   ]
  },
  {
   "cell_type": "code",
   "execution_count": 33,
   "id": "f660acd1-dee6-4f27-847c-7a4abbc42dcb",
   "metadata": {},
   "outputs": [
    {
     "data": {
      "text/plain": [
       "0"
      ]
     },
     "execution_count": 33,
     "metadata": {},
     "output_type": "execute_result"
    }
   ],
   "source": [
    "df.duplicated().sum()#There are no duplicated rows in the dataset"
   ]
  },
  {
   "cell_type": "markdown",
   "id": "118f9304-ceb7-413f-9070-b31cfbb41667",
   "metadata": {},
   "source": [
    "<h2>Exploratory Data Analysis</h2>"
   ]
  },
  {
   "cell_type": "code",
   "execution_count": 37,
   "id": "0ef09304-4cdc-4dde-b988-aa8ad44e9bb5",
   "metadata": {},
   "outputs": [],
   "source": [
    "df_eda=df.copy()#Creating a duplicate for the dataframe to temporarily fill out the missing values and then perform EDA"
   ]
  },
  {
   "cell_type": "code",
   "execution_count": 38,
   "id": "3cdf53be-b69d-4e1f-8f69-88251cce2d91",
   "metadata": {},
   "outputs": [],
   "source": [
    "for col in ['Weather', 'Traffic_Level', 'Time_of_Day']:\n",
    "    df_eda[col].fillna(df_eda[col].mode()[0], inplace=True)\n",
    "    \n",
    "df_eda['Courier_Experience_yrs'].fillna(df_eda['Courier_Experience_yrs'].median(), inplace=True)"
   ]
  },
  {
   "cell_type": "code",
   "execution_count": 39,
   "id": "7fbb2a78-fbb1-4304-81a1-b2f1a6916432",
   "metadata": {},
   "outputs": [
    {
     "data": {
      "text/plain": [
       "Distance_km               0\n",
       "Weather                   0\n",
       "Traffic_Level             0\n",
       "Time_of_Day               0\n",
       "Vehicle_Type              0\n",
       "Preparation_Time_min      0\n",
       "Courier_Experience_yrs    0\n",
       "Delivery_Time_min         0\n",
       "dtype: int64"
      ]
     },
     "execution_count": 39,
     "metadata": {},
     "output_type": "execute_result"
    }
   ],
   "source": [
    "df_eda.isnull().sum()"
   ]
  },
  {
   "cell_type": "code",
   "execution_count": 44,
   "id": "c500f4e7-3049-462d-9c4f-f42a8e17dc9b",
   "metadata": {},
   "outputs": [],
   "source": [
    "num_cols=['Distance_km','Preparation_Time_min','Courier_Experience_yrs','Delivery_Time_min']"
   ]
  },
  {
   "cell_type": "code",
   "execution_count": 45,
   "id": "80e7de67-f91b-4683-84f4-121c09fbe22c",
   "metadata": {},
   "outputs": [
    {
     "data": {
      "image/png": "[encoded data removed]",
      "text/plain": [
       "<Figure size 640x480 with 4 Axes>"
      ]
     },
     "metadata": {},
     "output_type": "display_data"
    }
   ],
   "source": [
    "for i,col in enumerate(num_cols):\n",
    "    plt.subplot(2,2,i+1)\n",
    "    sns.boxplot(data=df_eda,x=col)\n",
    "    plt.title(col)\n",
    "plt.tight_layout()\n",
    "plt.show()"
   ]
  },
  {
   "cell_type": "code",
   "execution_count": 49,
   "id": "0c64e04d-c034-4849-b30e-11d7de29b088",
   "metadata": {},
   "outputs": [
    {
     "data": {
      "image/png": "[encoded data removed]",
      "text/plain": [
       "<Figure size 640x480 with 3 Axes>"
      ]
     },
     "metadata": {},
     "output_type": "display_data"
    }
   ],
   "source": [
    "for i,col in enumerate(['Distance_km','Preparation_Time_min','Courier_Experience_yrs']):\n",
    "    plt.subplot(2,2,i+1)\n",
    "    sns.scatterplot(data=df_eda,x=col,y='Delivery_Time_min')\n",
    "    plt.title(f\"{col} vs Delivery Time\")\n",
    "plt.tight_layout()\n",
    "plt.show()"
   ]
  },
  {
   "cell_type": "code",
   "execution_count": null,
   "id": "ffaa7b72-a466-48cd-90de-722bac3247c3",
   "metadata": {},
   "outputs": [],
   "source": [
    "cat_cols="
   ]
  },
  {
   "cell_type": "code",
   "execution_count": null,
   "id": "01e73844-13b9-41d4-a363-0a10c4961836",
   "metadata": {},
   "outputs": [],
   "source": []
  },
  {
   "cell_type": "markdown",
   "id": "df261d0c-1e23-4800-b30e-c4e1672d3050",
   "metadata": {},
   "source": [
    "<h2>Feature Engineering</h2>"
   ]
  },
  {
   "cell_type": "code",
   "execution_count": 34,
   "id": "e9f4685f-afa1-4280-83e5-629e97f081ee",
   "metadata": {},
   "outputs": [],
   "source": [
    "df.drop(\"Order_ID\",axis=1,inplace=True)#Order ID doesnot contribute in estimating the delivery time"
   ]
  },
  {
   "cell_type": "code",
   "execution_count": 35,
   "id": "63ae193e-9e18-48b2-9414-4f315dfd6957",
   "metadata": {},
   "outputs": [
    {
     "data": {
      "text/html": [
       "<div>\n",
       "<style scoped>\n",
       "    .dataframe tbody tr th:only-of-type {\n",
       "        vertical-align: middle;\n",
       "    }\n",
       "\n",
       "    .dataframe tbody tr th {\n",
       "        vertical-align: top;\n",
       "    }\n",
       "\n",
       "    .dataframe thead th {\n",
       "        text-align: right;\n",
       "    }\n",
       "</style>\n",
       "<table border=\"1\" class=\"dataframe\">\n",
       "  <thead>\n",
       "    <tr style=\"text-align: right;\">\n",
       "      <th></th>\n",
       "      <th>Distance_km</th>\n",
       "      <th>Weather</th>\n",
       "      <th>Traffic_Level</th>\n",
       "      <th>Time_of_Day</th>\n",
       "      <th>Vehicle_Type</th>\n",
       "      <th>Preparation_Time_min</th>\n",
       "      <th>Courier_Experience_yrs</th>\n",
       "      <th>Delivery_Time_min</th>\n",
       "    </tr>\n",
       "  </thead>\n",
       "  <tbody>\n",
       "    <tr>\n",
       "      <th>0</th>\n",
       "      <td>7.93</td>\n",
       "      <td>Windy</td>\n",
       "      <td>Low</td>\n",
       "      <td>Afternoon</td>\n",
       "      <td>Scooter</td>\n",
       "      <td>12</td>\n",
       "      <td>1.0</td>\n",
       "      <td>43</td>\n",
       "    </tr>\n",
       "    <tr>\n",
       "      <th>1</th>\n",
       "      <td>16.42</td>\n",
       "      <td>Clear</td>\n",
       "      <td>Medium</td>\n",
       "      <td>Evening</td>\n",
       "      <td>Bike</td>\n",
       "      <td>20</td>\n",
       "      <td>2.0</td>\n",
       "      <td>84</td>\n",
       "    </tr>\n",
       "    <tr>\n",
       "      <th>2</th>\n",
       "      <td>9.52</td>\n",
       "      <td>Foggy</td>\n",
       "      <td>Low</td>\n",
       "      <td>Night</td>\n",
       "      <td>Scooter</td>\n",
       "      <td>28</td>\n",
       "      <td>1.0</td>\n",
       "      <td>59</td>\n",
       "    </tr>\n",
       "    <tr>\n",
       "      <th>3</th>\n",
       "      <td>7.44</td>\n",
       "      <td>Rainy</td>\n",
       "      <td>Medium</td>\n",
       "      <td>Afternoon</td>\n",
       "      <td>Scooter</td>\n",
       "      <td>5</td>\n",
       "      <td>1.0</td>\n",
       "      <td>37</td>\n",
       "    </tr>\n",
       "    <tr>\n",
       "      <th>4</th>\n",
       "      <td>19.03</td>\n",
       "      <td>Clear</td>\n",
       "      <td>Low</td>\n",
       "      <td>Morning</td>\n",
       "      <td>Bike</td>\n",
       "      <td>16</td>\n",
       "      <td>5.0</td>\n",
       "      <td>68</td>\n",
       "    </tr>\n",
       "  </tbody>\n",
       "</table>\n",
       "</div>"
      ],
      "text/plain": [
       "   Distance_km Weather Traffic_Level Time_of_Day Vehicle_Type  \\\n",
       "0         7.93   Windy           Low   Afternoon      Scooter   \n",
       "1        16.42   Clear        Medium     Evening         Bike   \n",
       "2         9.52   Foggy           Low       Night      Scooter   \n",
       "3         7.44   Rainy        Medium   Afternoon      Scooter   \n",
       "4        19.03   Clear           Low     Morning         Bike   \n",
       "\n",
       "   Preparation_Time_min  Courier_Experience_yrs  Delivery_Time_min  \n",
       "0                    12                     1.0                 43  \n",
       "1                    20                     2.0                 84  \n",
       "2                    28                     1.0                 59  \n",
       "3                     5                     1.0                 37  \n",
       "4                    16                     5.0                 68  "
      ]
     },
     "execution_count": 35,
     "metadata": {},
     "output_type": "execute_result"
    }
   ],
   "source": [
    "df.head()"
   ]
  },
  {
   "cell_type": "code",
   "execution_count": null,
   "id": "5a712439-b5e0-487c-9694-0e3e2726f3b3",
   "metadata": {},
   "outputs": [],
   "source": [
    "# X=df.drop('Delivery_Time_min',axis=1)\n",
    "# y=df['Delivery_Time_min']"
   ]
  },
  {
   "cell_type": "code",
   "execution_count": null,
   "id": "83cd85de-6fc6-45d6-b35a-3cb01490c1fc",
   "metadata": {},
   "outputs": [],
   "source": [
    "# X_train,X_test,y_train,y_test=train_test_split(X,y,test_size=0.2,random_state=42)"
   ]
  },
  {
   "cell_type": "code",
   "execution_count": null,
   "id": "238a9ff6-00be-4fa3-aff7-698b42e92914",
   "metadata": {},
   "outputs": [],
   "source": [
    "# num_cols=['Distance_km','Preparation_Time_min','Courier_Experience_yrs']"
   ]
  }
 ],
 "metadata": {
  "kernelspec": {
   "display_name": "Python 3 (ipykernel)",
   "language": "python",
   "name": "python3"
  },
  "language_info": {
   "codemirror_mode": {
    "name": "ipython",
    "version": 3
   },
   "file_extension": ".py",
   "mimetype": "text/x-python",
   "name": "python",
   "nbconvert_exporter": "python",
   "pygments_lexer": "ipython3",
   "version": "3.11.7"
  }
 },
 "nbformat": 4,
 "nbformat_minor": 5
}
